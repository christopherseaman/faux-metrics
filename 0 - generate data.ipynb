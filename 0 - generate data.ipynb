{
 "cells": [
  {
   "cell_type": "code",
   "execution_count": null,
   "metadata": {},
   "outputs": [],
   "source": [
    "#!/bin/env python3\n",
    "\n",
    "# This script is used to generate the clickstream data for a fake website.\n",
    "# Website: goose.birds\n",
    "# Format: Google Analytics\n",
    "\n",
    "from fake_web_events import Simulation\n",
    "import json\n",
    "import pandas as pd\n",
    "import matplotlib.pyplot as plt\n",
    "import pandas as pd\n",
    "# import pyarrow as pa\n",
    "# import duckdb"
   ]
  },
  {
   "cell_type": "code",
   "execution_count": null,
   "metadata": {},
   "outputs": [],
   "source": []
  },
  {
   "cell_type": "code",
   "execution_count": null,
   "metadata": {},
   "outputs": [],
   "source": [
    "# If events.json already exists, skip this step\n",
    "\n",
    "def create_events_file():\n",
    "    simulation = Simulation(user_pool_size=1000, sessions_per_day=10000)\n",
    "    events = simulation.run(duration_seconds=3000)\n",
    "\n",
    "    with open('events.json', 'w') as f:\n",
    "        f.write(json.dumps(list(events)))\n",
    "\n",
    "if not os.path.exists('events.json'):\n",
    "    print('Generating events.json')\n",
    "    create_events_file()\n"
   ]
  },
  {
   "cell_type": "code",
   "execution_count": null,
   "metadata": {},
   "outputs": [],
   "source": [
    "df = pd.read_json('events.json', orient='records')\n",
    "df['event_hour'] = pd.to_datetime(df['event_timestamp']).dt.strftime('%Y-%m-%d %H')\n",
    "\n",
    "events_per_hour = df.groupby('event_hour')['user_domain_id'].count()\n",
    "print(events_per_hour)\n",
    "\n",
    "events_per_hour.plot.line()\n",
    "plt.show()\n",
    "\n",
    "page_count = df['page_url_path'].value_counts()\n",
    "print(page_count)"
   ]
  }
 ],
 "metadata": {
  "kernelspec": {
   "display_name": ".venv",
   "language": "python",
   "name": "python3"
  },
  "language_info": {
   "codemirror_mode": {
    "name": "ipython",
    "version": 3
   },
   "file_extension": ".py",
   "mimetype": "text/x-python",
   "name": "python",
   "nbconvert_exporter": "python",
   "pygments_lexer": "ipython3",
   "version": "3.11.2"
  },
  "orig_nbformat": 4
 },
 "nbformat": 4,
 "nbformat_minor": 2
}
